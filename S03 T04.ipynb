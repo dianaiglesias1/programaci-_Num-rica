{
 "cells": [
  {
   "cell_type": "markdown",
   "id": "e7368653",
   "metadata": {},
   "source": [
    "## S03 T04: Pràctica amb programació numèrica"
   ]
  },
  {
   "cell_type": "markdown",
   "id": "f19d1bb4",
   "metadata": {},
   "source": [
    "### Exercici 1"
   ]
  },
  {
   "cell_type": "markdown",
   "id": "4e5f943f",
   "metadata": {},
   "source": [
    "Crea una funció que donat un Array d’una dimensió, et faci un resum estadístic bàsic de les dades. Si detecta que l’array té més d’una dimensió, ha de mostrar un missatge d’error."
   ]
  },
  {
   "cell_type": "code",
   "execution_count": 36,
   "id": "c472d926",
   "metadata": {},
   "outputs": [
    {
     "name": "stdout",
     "output_type": "stream",
     "text": [
      "L'array ha de tenir una dimensió\n"
     ]
    }
   ],
   "source": [
    "import numpy as np\n",
    "\n",
    "#First, we need to apply the condition to exclude non 1D arrays, we use the if clause.\n",
    "#If array complies with condition, then average, variance and std deviation is calculated thru numpy methods\n",
    "#I've rounded the result up to 2 decimals\n",
    "\n",
    "def estadisticaArray(arr):\n",
    "    \n",
    "    if np.ndim(arr)!=1:\n",
    "        print(\"L'array ha de tenir una dimensió\")\n",
    "    else:\n",
    "        mitjana=np.average(arr)\n",
    "        print(\"La mitjana d'aquest array és\", np.around(mitjana,2))\n",
    "        varian=np.var(arr)\n",
    "        print(\"La variança d'aquest array és\", np.around(varian,2))\n",
    "        desv_st=np.std(arr)\n",
    "        print(\"La desviació estàndard d'aquest array és\", np.around(desv_st,2))\n",
    "\n",
    "#let's test our method with an example\n",
    "\n",
    "arr=np.array([[1,3,8]])\n",
    "estadisticaArray(arr)"
   ]
  },
  {
   "cell_type": "code",
   "execution_count": 37,
   "id": "060a38d2",
   "metadata": {},
   "outputs": [
    {
     "name": "stdout",
     "output_type": "stream",
     "text": [
      "La mitjana d'aquest array és 4.25\n",
      "La variança d'aquest array és 6.69\n",
      "La desviació estàndard d'aquest array és 2.59\n"
     ]
    }
   ],
   "source": [
    "arr=np.array([1,3,8,5])\n",
    "estadisticaArray(arr)"
   ]
  },
  {
   "cell_type": "markdown",
   "id": "1dc51b05",
   "metadata": {},
   "source": [
    "### Exercici 2"
   ]
  },
  {
   "cell_type": "markdown",
   "id": "00aade12",
   "metadata": {},
   "source": [
    "Crea una funció que et generi un quadrat NxN de nombres aleatoris entre el 0 i el 100."
   ]
  },
  {
   "cell_type": "code",
   "execution_count": 38,
   "id": "6264dd23",
   "metadata": {},
   "outputs": [
    {
     "data": {
      "text/plain": [
       "array([[29, 30, 30, 51, 13],\n",
       "       [82, 75, 51, 57, 97],\n",
       "       [36, 45,  1, 16, 58],\n",
       "       [52, 19, 26, 30, 85],\n",
       "       [82, 77, 46, 73, 36]])"
      ]
     },
     "execution_count": 38,
     "metadata": {},
     "output_type": "execute_result"
    }
   ],
   "source": [
    "#First, import random from numpy\n",
    "#using random.randint method to create the NxN square, random.randint(range of random numbers,size=(rows, columns)\n",
    "#In this case N is any integer\n",
    "\n",
    "from numpy import random\n",
    "\n",
    "def quadrat_aleatori(N):\n",
    "    arr=random.randint(100,size=(N,N))\n",
    "    return arr\n",
    "\n",
    "quadrat_aleatori(5)"
   ]
  },
  {
   "cell_type": "code",
   "execution_count": 39,
   "id": "734323d2",
   "metadata": {},
   "outputs": [
    {
     "data": {
      "text/plain": [
       "array([[63, 14],\n",
       "       [32, 26]])"
      ]
     },
     "execution_count": 39,
     "metadata": {},
     "output_type": "execute_result"
    }
   ],
   "source": [
    "quadrat_aleatori(2)"
   ]
  },
  {
   "cell_type": "markdown",
   "id": "66688757",
   "metadata": {},
   "source": [
    "### Exercici 3"
   ]
  },
  {
   "cell_type": "markdown",
   "id": "6a962596",
   "metadata": {},
   "source": [
    "Crea una funció que donada una taula de dues dimensions, et calculi els totals per fila i els totals per columna. "
   ]
  },
  {
   "cell_type": "code",
   "execution_count": 40,
   "id": "04348f0a",
   "metadata": {},
   "outputs": [],
   "source": [
    "#we use .sum method for calculating the addition of all elements in rows and columns,\n",
    "#(being axis=0, columns and axis1=rows)\n",
    "\n",
    "def totals(arr):\n",
    "    suma_columnes=arr.sum(axis=0)\n",
    "    print(\"El total de les columnes és\",suma_columnes)\n",
    "    suma_fileres=arr.sum(axis=1)\n",
    "    print(\"El total de les fileres és\",suma_fileres)"
   ]
  },
  {
   "cell_type": "code",
   "execution_count": 41,
   "id": "b324c2fd",
   "metadata": {},
   "outputs": [
    {
     "name": "stdout",
     "output_type": "stream",
     "text": [
      "[[8 4 4 6 7]\n",
      " [5 5 3 4 8]\n",
      " [0 2 3 4 4]\n",
      " [3 2 3 0 5]]\n",
      "El total de les columnes és [16 13 13 14 24]\n",
      "El total de les fileres és [29 25 13 13]\n"
     ]
    }
   ],
   "source": [
    "#by creating an array of 2D we can apply the method created\n",
    "\n",
    "arr = random.randint(10, size=(4, 5))\n",
    "print(arr)\n",
    "totals(arr)"
   ]
  },
  {
   "cell_type": "markdown",
   "id": "755c977a",
   "metadata": {},
   "source": [
    "### Exercici 4"
   ]
  },
  {
   "cell_type": "markdown",
   "id": "62969cc9",
   "metadata": {},
   "source": [
    "Implementa manualment una funció que calculi el coeficient de correlació. Informa’t-en sobre els seus usos i interpretació."
   ]
  },
  {
   "cell_type": "code",
   "execution_count": 42,
   "id": "7d29ab72",
   "metadata": {},
   "outputs": [],
   "source": [
    "#the formula for correlation coefficient is as follows: \n",
    "#r = Σᵢ((xᵢ − mean(x))(yᵢ − mean(y))) (√Σᵢ(xᵢ − mean(x))² √Σᵢ(yᵢ − mean(y))²)⁻¹\n",
    "\n",
    "def coeficient_correlacio(X,Y):\n",
    "\n",
    "    numerador = np.sum((X-np.mean(X))*(Y-np.mean(Y)))\n",
    "    denominador = np.sqrt(np.sum((X-np.mean(X))**2))*np.sqrt(np.sum((Y-np.mean(Y))**2))\n",
    "    return (numerador/denominador)                                                                                          "
   ]
  },
  {
   "cell_type": "code",
   "execution_count": 30,
   "id": "962dc3bd",
   "metadata": {},
   "outputs": [
    {
     "data": {
      "text/plain": [
       "0.9669519493078381"
      ]
     },
     "execution_count": 30,
     "metadata": {},
     "output_type": "execute_result"
    }
   ],
   "source": [
    "#test the function with a real life example:\n",
    "\n",
    "#X represents variable \"age\"\n",
    "X=np.array([20,30,40,50,60])\n",
    "\n",
    "#Y represents variable \"salary\"\n",
    "Y=np.array([15000,25000,35000,40000,42000])\n",
    "\n",
    "#applying the function\n",
    "coeficient_correlacio(X,Y)"
   ]
  },
  {
   "cell_type": "markdown",
   "id": "2bd4d129",
   "metadata": {},
   "source": [
    "The result indicates a positive correlation between age and salary"
   ]
  },
  {
   "cell_type": "code",
   "execution_count": 31,
   "id": "13161ffa",
   "metadata": {},
   "outputs": [
    {
     "data": {
      "text/plain": [
       "array([[1.        , 0.96695195],\n",
       "       [0.96695195, 1.        ]])"
      ]
     },
     "execution_count": 31,
     "metadata": {},
     "output_type": "execute_result"
    }
   ],
   "source": [
    "#Now, let's try the build in numpy method corrcoef\n",
    "\n",
    "np.corrcoef(X,Y)"
   ]
  },
  {
   "cell_type": "markdown",
   "id": "f1882022",
   "metadata": {},
   "source": [
    "Corrcoef returns the correlation matrix, which is a two-dimensional array with the correlation coefficients.\n",
    "he values on the main diagonal of the correlation matrix (upper left and lower right) are equal to 1. The upper left value corresponds to the correlation coefficient for x and x, while the lower right value is the correlation coefficient for y and y. They are always equal to 1.\n",
    "\n",
    "What is needed are the lower left and upper right values that represent the Pearson correlation coefficient and that in this case matches with the function that I've created (0,9669)"
   ]
  }
 ],
 "metadata": {
  "kernelspec": {
   "display_name": "Python 3 (ipykernel)",
   "language": "python",
   "name": "python3"
  },
  "language_info": {
   "codemirror_mode": {
    "name": "ipython",
    "version": 3
   },
   "file_extension": ".py",
   "mimetype": "text/x-python",
   "name": "python",
   "nbconvert_exporter": "python",
   "pygments_lexer": "ipython3",
   "version": "3.8.8"
  }
 },
 "nbformat": 4,
 "nbformat_minor": 5
}
